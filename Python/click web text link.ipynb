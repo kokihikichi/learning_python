{
 "cells": [
  {
   "cell_type": "code",
   "execution_count": 8,
   "metadata": {
    "collapsed": true
   },
   "outputs": [],
   "source": [
    ">>> from selenium import webdriver\n",
    ">>> browser = webdriver.browser = webdriver.Chrome(executable_path =\"C:\\webdriver\\Chrome\\chromedriver.exe\")\n",
    ">>> browser.get('http://inventwithpython.com')\n",
    ">>> linkElem = browser.find_element_by_link_text('Read Online for Free')\n",
    ">>> type(linkElem)\n",
    ">>> linkElem.click() # Read Online for Free\" link"
   ]
  }
 ],
 "metadata": {
  "kernelspec": {
   "display_name": "Python 3",
   "language": "python",
   "name": "python3"
  },
  "language_info": {
   "codemirror_mode": {
    "name": "ipython",
    "version": 3
   },
   "file_extension": ".py",
   "mimetype": "text/x-python",
   "name": "python",
   "nbconvert_exporter": "python",
   "pygments_lexer": "ipython3",
   "version": "3.6.3"
  }
 },
 "nbformat": 4,
 "nbformat_minor": 2
}
