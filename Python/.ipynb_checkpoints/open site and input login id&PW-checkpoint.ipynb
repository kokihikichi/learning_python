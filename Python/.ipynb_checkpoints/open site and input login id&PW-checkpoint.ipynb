{
 "cells": [
  {
   "cell_type": "code",
   "execution_count": 6,
   "metadata": {},
   "outputs": [],
   "source": [
    ">>> from selenium import webdriver\n",
    ">>> browser = webdriver.Chrome(executable_path =\"C:\\webdriver\\Chrome\\chromedriver.exe\")\n",
    ">>> browser.get('https://login.salesforce.com/?ec=302&startURL=%2Fhome%2Fhome.jsp')\n",
    ">>> emailElem = browser.find_element_by_id('username')\n",
    ">>> emailElem.send_keys('qiwei.tan@rakuten.com')\n",
    ">>> passwordElem = browser.find_element_by_id('password')\n",
    ">>> passwordElem.send_keys('12345')\n",
    ">>> passwordElem.submit()"
   ]
  }
 ],
 "metadata": {
  "kernelspec": {
   "display_name": "Python 3",
   "language": "python",
   "name": "python3"
  },
  "language_info": {
   "codemirror_mode": {
    "name": "ipython",
    "version": 3
   },
   "file_extension": ".py",
   "mimetype": "text/x-python",
   "name": "python",
   "nbconvert_exporter": "python",
   "pygments_lexer": "ipython3",
   "version": "3.6.3"
  }
 },
 "nbformat": 4,
 "nbformat_minor": 2
}
