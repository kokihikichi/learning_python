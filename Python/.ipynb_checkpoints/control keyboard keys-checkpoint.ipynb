{
 "cells": [
  {
   "cell_type": "code",
   "execution_count": null,
   "metadata": {
    "collapsed": true
   },
   "outputs": [],
   "source": [
    ">>> from selenium import webdriver\n",
    ">>> from selenium.webdriver.common.keys import Keys\n",
    ">>> browser = webdriver.Firefox()\n",
    ">>> browser.get('http://nostarch.com')\n",
    ">>> htmlElem = browser.find_element_by_tag_name('html')\n",
    ">>> htmlElem.send_keys(Keys.END)     # scrolls to bottom\n",
    ">>> htmlElem.send_keys(Keys.HOME)    # scrolls to top"
   ]
  }
 ],
 "metadata": {
  "kernelspec": {
   "display_name": "Python 3",
   "language": "python",
   "name": "python3"
  },
  "language_info": {
   "codemirror_mode": {
    "name": "ipython",
    "version": 3
   },
   "file_extension": ".py",
   "mimetype": "text/x-python",
   "name": "python",
   "nbconvert_exporter": "python",
   "pygments_lexer": "ipython3",
   "version": "3.6.3"
  }
 },
 "nbformat": 4,
 "nbformat_minor": 2
}
